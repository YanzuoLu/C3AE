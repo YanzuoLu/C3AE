{
 "cells": [
  {
   "cell_type": "code",
   "execution_count": 1,
   "metadata": {},
   "outputs": [],
   "source": [
    "import feather\n",
    "import numpy as np\n",
    "import pandas as pd"
   ]
  },
  {
   "cell_type": "code",
   "execution_count": 2,
   "metadata": {},
   "outputs": [
    {
     "name": "stdout",
     "output_type": "stream",
     "text": [
      "                                               img_path  label  predict_age\n",
      "0     /home/FaceTest/dataset/total/986/8a2fd930-68ce...    986    21.024868\n",
      "1     /home/FaceTest/dataset/total/457/340646a7-a6dc...    457    25.641853\n",
      "2     /home/FaceTest/dataset/total/457/340646a7-a6dc...    457    42.328461\n",
      "3     /home/FaceTest/dataset/total/457/340646a7-a6dc...    457    29.246872\n",
      "4     /home/FaceTest/dataset/total/457/340646a7-a6dc...    457    28.247286\n",
      "5     /home/FaceTest/dataset/total/457/340646a7-a6dc...    457    33.919350\n",
      "6     /home/FaceTest/dataset/total/960-2/64a829f4-e4...  960-2    27.925444\n",
      "7     /home/FaceTest/dataset/total/139/d96b1de4-f8fd...    139    29.382286\n",
      "8     /home/FaceTest/dataset/total/139/0338263b-d823...    139    36.738350\n",
      "9     /home/FaceTest/dataset/total/139/d96b1de4-f8fd...    139    23.964190\n",
      "10    /home/FaceTest/dataset/total/139/d96b1de4-f8fd...    139    28.668089\n",
      "11    /home/FaceTest/dataset/total/139/d96b1de4-f8fd...    139    33.627483\n",
      "12    /home/FaceTest/dataset/total/139/d96b1de4-f8fd...    139    36.768093\n",
      "13    /home/FaceTest/dataset/total/250/df2c167a-e94c...    250    41.759315\n",
      "14    /home/FaceTest/dataset/total/250/df2c167a-e94c...    250    34.173134\n",
      "15    /home/FaceTest/dataset/total/250/9c830c08-078e...    250    28.991510\n",
      "16    /home/FaceTest/dataset/total/250/df2c167a-e94c...    250    50.061264\n",
      "17    /home/FaceTest/dataset/total/972/941564ca-1665...    972    33.029392\n",
      "18    /home/FaceTest/dataset/total/856/e3147169-fa84...    856    30.656752\n",
      "19    /home/FaceTest/dataset/total/572/26a4a91c-7ffe...    572    29.741507\n",
      "20    /home/FaceTest/dataset/total/572/26a4a91c-7ffe...    572    25.700300\n",
      "21    /home/FaceTest/dataset/total/572/26a4a91c-7ffe...    572    28.228863\n",
      "22    /home/FaceTest/dataset/total/572/26a4a91c-7ffe...    572    26.598040\n",
      "23    /home/FaceTest/dataset/total/572/26a4a91c-7ffe...    572    23.533901\n",
      "24    /home/FaceTest/dataset/total/283/4b7318c5-7489...    283    29.952415\n",
      "25    /home/FaceTest/dataset/total/283/94c02365-949a...    283    25.986465\n",
      "26    /home/FaceTest/dataset/total/283/4b7318c5-7489...    283    24.536791\n",
      "27    /home/FaceTest/dataset/total/283/4b7318c5-7489...    283    25.687519\n",
      "28    /home/FaceTest/dataset/total/283/4b7318c5-7489...    283    30.684761\n",
      "29    /home/FaceTest/dataset/total/283/4b7318c5-7489...    283    36.393082\n",
      "...                                                 ...    ...          ...\n",
      "4563  /home/FaceTest/dataset/total/452/049598a7-d363...    452    34.709625\n",
      "4564  /home/FaceTest/dataset/total/1026/ef97ef90-c10...   1026    30.486263\n",
      "4565  /home/FaceTest/dataset/total/209/7ab5908e-4a18...    209    33.068733\n",
      "4566  /home/FaceTest/dataset/total/209/7ab5908e-4a18...    209    48.256805\n",
      "4567  /home/FaceTest/dataset/total/209/7ab5908e-4a18...    209    25.367079\n",
      "4568  /home/FaceTest/dataset/total/209/7ab5908e-4a18...    209    33.908031\n",
      "4569  /home/FaceTest/dataset/total/209/6d91b788-a79d...    209    43.007061\n",
      "4570  /home/FaceTest/dataset/total/209/7ab5908e-4a18...    209    39.998245\n",
      "4571  /home/FaceTest/dataset/total/209/42d33725-2c9c...    209    33.824150\n",
      "4572  /home/FaceTest/dataset/total/211/9fabaaac-f47c...    211    36.061256\n",
      "4573  /home/FaceTest/dataset/total/211/4f2a650c-8712...    211    32.500359\n",
      "4574  /home/FaceTest/dataset/total/211/33d9a956-5ecd...    211    30.432281\n",
      "4575  /home/FaceTest/dataset/total/211/33d9a956-5ecd...    211    25.525211\n",
      "4576  /home/FaceTest/dataset/total/211/33d9a956-5ecd...    211    32.835873\n",
      "4577  /home/FaceTest/dataset/total/211/33d9a956-5ecd...    211    29.753012\n",
      "4578  /home/FaceTest/dataset/total/211/33d9a956-5ecd...    211    33.528091\n",
      "4579  /home/FaceTest/dataset/total/962/c154e122-f479...    962    30.470215\n",
      "4580  /home/FaceTest/dataset/total/733/db7f84a4-4068...    733    19.665619\n",
      "4581  /home/FaceTest/dataset/total/733/3587e271-c839...    733    19.489241\n",
      "4582  /home/FaceTest/dataset/total/733/db7f84a4-4068...    733    36.071960\n",
      "4583  /home/FaceTest/dataset/total/55/0b8d0f33-9fa6-...     55    31.168789\n",
      "4584  /home/FaceTest/dataset/total/55/1332fc7a-41bc-...     55    32.851013\n",
      "4585  /home/FaceTest/dataset/total/55/d3fa73d0-3441-...     55    31.207390\n",
      "4586  /home/FaceTest/dataset/total/55/9f304407-1180-...     55    38.509766\n",
      "4587  /home/FaceTest/dataset/total/55/9f304407-1180-...     55    34.855289\n",
      "4588  /home/FaceTest/dataset/total/55/9f304407-1180-...     55    21.485962\n",
      "4589  /home/FaceTest/dataset/total/55/9f304407-1180-...     55    33.057774\n",
      "4590  /home/FaceTest/dataset/total/55/fa4f6d22-f8fc-...     55    38.206490\n",
      "4591  /home/FaceTest/dataset/total/55/9f304407-1180-...     55    27.435781\n",
      "4592  /home/FaceTest/dataset/total/55/7deb43dc-8a40-...     55    39.870434\n",
      "\n",
      "[4593 rows x 3 columns]\n"
     ]
    }
   ],
   "source": [
    "df = feather.read_dataframe('total.feather')\n",
    "print(df)"
   ]
  },
  {
   "cell_type": "code",
   "execution_count": 7,
   "metadata": {},
   "outputs": [
    {
     "data": {
      "text/plain": [
       "label\n",
       "1        44.628150\n",
       "10       28.516475\n",
       "100      29.392315\n",
       "1002     30.503950\n",
       "1003     17.753246\n",
       "1005     33.353870\n",
       "1006     46.205482\n",
       "1009     21.238232\n",
       "101      23.010972\n",
       "1011     24.432320\n",
       "1012     19.661572\n",
       "1014     23.477962\n",
       "1015     42.923820\n",
       "1016     29.925400\n",
       "1017     39.268745\n",
       "1019     16.473352\n",
       "102      32.056565\n",
       "1020     35.676582\n",
       "1021     31.261301\n",
       "1023     26.438499\n",
       "1024     17.081169\n",
       "1025     31.149769\n",
       "1026     30.486263\n",
       "1029     30.421810\n",
       "1030     33.215782\n",
       "1031     19.277918\n",
       "1033     21.578537\n",
       "1034     35.782013\n",
       "1035     38.909065\n",
       "1036     43.768051\n",
       "           ...    \n",
       "964      39.304787\n",
       "966      32.589695\n",
       "967      26.027334\n",
       "97       31.917926\n",
       "971      21.668835\n",
       "972      33.029392\n",
       "974      27.972288\n",
       "974-2    25.946018\n",
       "975      33.677620\n",
       "976      30.119743\n",
       "977      27.317648\n",
       "979      33.352142\n",
       "97гн2    28.640626\n",
       "98       31.050078\n",
       "980      14.869393\n",
       "981      52.366920\n",
       "982      25.257933\n",
       "983      31.990505\n",
       "985      29.602362\n",
       "986      21.024868\n",
       "987      30.345238\n",
       "989      47.451469\n",
       "99       28.123934\n",
       "990      29.497257\n",
       "991      18.990278\n",
       "992      30.628372\n",
       "995      20.564278\n",
       "996      16.020002\n",
       "998      21.736588\n",
       "999      39.022942\n",
       "Name: predict_age, Length: 937, dtype: float64"
      ]
     },
     "execution_count": 7,
     "metadata": {},
     "output_type": "execute_result"
    }
   ],
   "source": [
    "df.groupby(['label'])['predict_age'].mean()"
   ]
  },
  {
   "cell_type": "code",
   "execution_count": null,
   "metadata": {},
   "outputs": [],
   "source": []
  }
 ],
 "metadata": {
  "kernelspec": {
   "display_name": "C3AE",
   "language": "python",
   "name": "c3ae"
  },
  "language_info": {
   "codemirror_mode": {
    "name": "ipython",
    "version": 3
   },
   "file_extension": ".py",
   "mimetype": "text/x-python",
   "name": "python",
   "nbconvert_exporter": "python",
   "pygments_lexer": "ipython3",
   "version": "3.6.5"
  }
 },
 "nbformat": 4,
 "nbformat_minor": 4
}

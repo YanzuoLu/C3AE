{
 "cells": [
  {
   "cell_type": "code",
   "execution_count": 6,
   "metadata": {},
   "outputs": [],
   "source": [
    "import feather\n",
    "import numpy as np\n",
    "import pandas as pd"
   ]
  },
  {
   "cell_type": "code",
   "execution_count": 8,
   "metadata": {},
   "outputs": [],
   "source": [
    "df = feather.read_dataframe('WikiImdb-Mega.feather')\n",
    "age = df['predict_age'].to_numpy()\n",
    "predict_age = df['age'].to_numpy()"
   ]
  },
  {
   "cell_type": "code",
   "execution_count": 9,
   "metadata": {},
   "outputs": [
    {
     "data": {
      "text/plain": [
       "4.5310492729297005"
      ]
     },
     "execution_count": 9,
     "metadata": {},
     "output_type": "execute_result"
    }
   ],
   "source": [
    "from sklearn.metrics import mean_absolute_error\n",
    "mean_absolute_error(age, predict_age)"
   ]
  },
  {
   "cell_type": "code",
   "execution_count": 10,
   "metadata": {},
   "outputs": [
    {
     "name": "stdout",
     "output_type": "stream",
     "text": [
      "age of (-inf, 10]\n",
      "MAE: 4.941479892305404 num: 1166\n",
      "CA: [0.43825043 0.63207547 0.77101201 0.87307033]\n",
      "\n",
      "age of (10, 20]\n",
      "MAE: 4.584897761265557 num: 661\n",
      "CA: [0.36459909 0.62934947 0.77912254 0.92889561]\n",
      "\n",
      "age of (20, 30]\n",
      "MAE: 3.6638059344386784 num: 1053\n",
      "CA: [0.52421652 0.74264008 0.86039886 0.95441595]\n",
      "\n",
      "age of (30, 40]\n",
      "MAE: 4.2869911736589135 num: 615\n",
      "CA: [0.42276423 0.6504065  0.80813008 0.94471545]\n",
      "\n",
      "age of (40, 50]\n",
      "MAE: 5.684271462355988 num: 158\n",
      "CA: [0.34177215 0.51265823 0.64556962 0.82911392]\n",
      "\n",
      "age of (50, 60]\n",
      "MAE: 6.709022771744501 num: 84\n",
      "CA: [0.27380952 0.39285714 0.5952381  0.80952381]\n",
      "\n",
      "age of (60, 70]\n",
      "MAE: 6.889871499477288 num: 78\n",
      "CA: [0.25641026 0.48717949 0.62820513 0.74358974]\n",
      "\n"
     ]
    }
   ],
   "source": [
    "for i in range(10, 110, 10):\n",
    "    if i == 10:\n",
    "        age_seperate = age[np.where(age <= i)[0]]\n",
    "        predict_age_seperate = predict_age[np.where(age <= i)[0]]\n",
    "        output_str = \"age of (-inf, {}]\\nMAE: \".format(str(i))\n",
    "    else:\n",
    "        age_seperate = age[np.where((age <= i) & (age > i - 10))[0]]\n",
    "        predict_age_seperate = predict_age[np.where((age <= i) & (age > i - 10))[0]]\n",
    "        output_str = \"age of ({}, {}]\\nMAE: \".format(str(i - 10), str(i))\n",
    "    if age_seperate.shape[0] > 0:\n",
    "        num_str = \" num: \" + str(age_seperate.shape[0])\n",
    "        diff = abs(age_seperate - predict_age_seperate)\n",
    "        ca = np.array([sum(diff <= 3.0), sum(diff <= 5.0), sum(diff <= 7.0), sum(diff <= 10.0)]) / len(diff)\n",
    "        print(output_str + str(mean_absolute_error(age_seperate, predict_age_seperate)) + num_str)\n",
    "        print(\"CA: \" + str(ca))\n",
    "        print()"
   ]
  },
  {
   "cell_type": "code",
   "execution_count": 11,
   "metadata": {},
   "outputs": [
    {
     "name": "stdout",
     "output_type": "stream",
     "text": [
      "[0.43538663 0.65190039 0.79108781 0.91087811]\n"
     ]
    }
   ],
   "source": [
    "diff = abs(age - predict_age)\n",
    "ca = np.array([sum(diff <= 3.0), sum(diff <= 5.0), sum(diff <= 7.0), sum(diff <= 10.0)]) / len(diff)\n",
    "print(ca)"
   ]
  },
  {
   "cell_type": "code",
   "execution_count": null,
   "metadata": {},
   "outputs": [],
   "source": []
  }
 ],
 "metadata": {
  "kernelspec": {
   "display_name": "C3AE",
   "language": "python",
   "name": "c3ae"
  },
  "language_info": {
   "codemirror_mode": {
    "name": "ipython",
    "version": 3
   },
   "file_extension": ".py",
   "mimetype": "text/x-python",
   "name": "python",
   "nbconvert_exporter": "python",
   "pygments_lexer": "ipython3",
   "version": "3.6.5"
  }
 },
 "nbformat": 4,
 "nbformat_minor": 4
}

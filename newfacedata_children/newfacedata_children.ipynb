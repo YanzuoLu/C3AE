{
 "cells": [
  {
   "cell_type": "code",
   "execution_count": 1,
   "metadata": {},
   "outputs": [],
   "source": [
    "import feather\n",
    "import numpy as np\n",
    "import pandas as pd"
   ]
  },
  {
   "cell_type": "code",
   "execution_count": 3,
   "metadata": {},
   "outputs": [
    {
     "name": "stdout",
     "output_type": "stream",
     "text": [
      "                                              img_path  label  predict_age\n",
      "0    /home/FaceTest/dataset/newfacedata_children/67...    674    23.018263\n",
      "1    /home/FaceTest/dataset/newfacedata_children/67...    674    28.728025\n",
      "2    /home/FaceTest/dataset/newfacedata_children/67...    674    20.856840\n",
      "3    /home/FaceTest/dataset/newfacedata_children/67...    674    41.569515\n",
      "4    /home/FaceTest/dataset/newfacedata_children/74...    742    34.674370\n",
      "5    /home/FaceTest/dataset/newfacedata_children/74...    742    23.393707\n",
      "6    /home/FaceTest/dataset/newfacedata_children/21...  214-2    11.970384\n",
      "7    /home/FaceTest/dataset/newfacedata_children/35...    354    15.470532\n",
      "8    /home/FaceTest/dataset/newfacedata_children/35...    354    10.241179\n",
      "9    /home/FaceTest/dataset/newfacedata_children/35...    354    24.220295\n",
      "10   /home/FaceTest/dataset/newfacedata_children/35...    354    11.198180\n",
      "11   /home/FaceTest/dataset/newfacedata_children/35...    354    18.620455\n",
      "12   /home/FaceTest/dataset/newfacedata_children/23...     23     7.488678\n",
      "13   /home/FaceTest/dataset/newfacedata_children/23...     23     9.175941\n",
      "14   /home/FaceTest/dataset/newfacedata_children/23...     23     6.754982\n",
      "15   /home/FaceTest/dataset/newfacedata_children/23...     23     6.664865\n",
      "16   /home/FaceTest/dataset/newfacedata_children/23...     23     6.757679\n",
      "17   /home/FaceTest/dataset/newfacedata_children/23...     23    11.081644\n",
      "18   /home/FaceTest/dataset/newfacedata_children/23...     23    11.222317\n",
      "19   /home/FaceTest/dataset/newfacedata_children/23...     23     5.151371\n",
      "20   /home/FaceTest/dataset/newfacedata_children/74...  746-2    21.416046\n",
      "21   /home/FaceTest/dataset/newfacedata_children/84...    849     8.337626\n",
      "22   /home/FaceTest/dataset/newfacedata_children/84...    849    15.131879\n",
      "23   /home/FaceTest/dataset/newfacedata_children/23...    237     7.878666\n",
      "24   /home/FaceTest/dataset/newfacedata_children/23...    237     9.338053\n",
      "25   /home/FaceTest/dataset/newfacedata_children/23...    237     8.629601\n",
      "26   /home/FaceTest/dataset/newfacedata_children/23...    237     6.921867\n",
      "27   /home/FaceTest/dataset/newfacedata_children/23...    237    18.182983\n",
      "28   /home/FaceTest/dataset/newfacedata_children/58...    585    29.467855\n",
      "29   /home/FaceTest/dataset/newfacedata_children/58...    585    14.858126\n",
      "..                                                 ...    ...          ...\n",
      "386  /home/FaceTest/dataset/newfacedata_children/12...    128     5.249826\n",
      "387  /home/FaceTest/dataset/newfacedata_children/83...     83    10.927567\n",
      "388  /home/FaceTest/dataset/newfacedata_children/83...     83    28.313061\n",
      "389  /home/FaceTest/dataset/newfacedata_children/83...     83     9.802213\n",
      "390  /home/FaceTest/dataset/newfacedata_children/83...     83    26.339378\n",
      "391  /home/FaceTest/dataset/newfacedata_children/83...     83    16.775314\n",
      "392  /home/FaceTest/dataset/newfacedata_children/83...     83    11.393519\n",
      "393  /home/FaceTest/dataset/newfacedata_children/83...     83    31.280622\n",
      "394  /home/FaceTest/dataset/newfacedata_children/83...     83    12.423145\n",
      "395  /home/FaceTest/dataset/newfacedata_children/78...    780    23.405867\n",
      "396  /home/FaceTest/dataset/newfacedata_children/78...    780    20.581081\n",
      "397  /home/FaceTest/dataset/newfacedata_children/10...   1027    31.662294\n",
      "398  /home/FaceTest/dataset/newfacedata_children/40...    408    11.775042\n",
      "399  /home/FaceTest/dataset/newfacedata_children/40...    408    12.116885\n",
      "400  /home/FaceTest/dataset/newfacedata_children/40...    408     4.007679\n",
      "401  /home/FaceTest/dataset/newfacedata_children/40...    408     9.421596\n",
      "402  /home/FaceTest/dataset/newfacedata_children/40...    408     2.958572\n",
      "403  /home/FaceTest/dataset/newfacedata_children/38...    380    29.517382\n",
      "404  /home/FaceTest/dataset/newfacedata_children/38...    380    12.117240\n",
      "405  /home/FaceTest/dataset/newfacedata_children/38...    380    23.748415\n",
      "406  /home/FaceTest/dataset/newfacedata_children/38...    380    11.894945\n",
      "407  /home/FaceTest/dataset/newfacedata_children/38...    380    28.449059\n",
      "408  /home/FaceTest/dataset/newfacedata_children/49...     49    14.369814\n",
      "409  /home/FaceTest/dataset/newfacedata_children/49...     49    18.168444\n",
      "410  /home/FaceTest/dataset/newfacedata_children/49...     49    37.099712\n",
      "411  /home/FaceTest/dataset/newfacedata_children/49...     49    12.374007\n",
      "412  /home/FaceTest/dataset/newfacedata_children/84...    844    10.762466\n",
      "413  /home/FaceTest/dataset/newfacedata_children/84...    844    14.241055\n",
      "414  /home/FaceTest/dataset/newfacedata_children/82...  829－3    15.461615\n",
      "415  /home/FaceTest/dataset/newfacedata_children/82...  829－3    29.285177\n",
      "\n",
      "[416 rows x 3 columns]\n"
     ]
    }
   ],
   "source": [
    "df = feather.read_dataframe('newfacedata_children.feather')\n",
    "print(df)"
   ]
  },
  {
   "cell_type": "code",
   "execution_count": 6,
   "metadata": {},
   "outputs": [
    {
     "data": {
      "text/plain": [
       "label\n",
       "0        13.328426\n",
       "1010     24.549812\n",
       "1027     31.662294\n",
       "1028     14.931593\n",
       "103      13.316759\n",
       "1040     20.793322\n",
       "1041     38.402832\n",
       "128       8.379974\n",
       "128-2    17.474539\n",
       "128-3     6.407561\n",
       "128-4     7.112169\n",
       "128-5    11.634435\n",
       "128-7     6.273640\n",
       "128-8     3.502670\n",
       "128-9    11.595455\n",
       "144      10.331092\n",
       "144-2     6.745947\n",
       "144-3     4.494501\n",
       "16       12.326872\n",
       "19       15.671995\n",
       "214      21.338751\n",
       "214-2    11.970384\n",
       "23        8.037185\n",
       "237      10.190234\n",
       "261      16.658997\n",
       "264       4.657898\n",
       "267      15.073615\n",
       "275       9.605648\n",
       "277       3.430533\n",
       "277－2     8.805094\n",
       "           ...    \n",
       "748-5    48.430376\n",
       "758      10.200063\n",
       "758-2     7.885934\n",
       "772      29.083130\n",
       "780      21.993474\n",
       "80       17.411355\n",
       "809      32.124401\n",
       "813       8.211876\n",
       "829      24.458458\n",
       "829－3    22.373396\n",
       "829－4    10.060747\n",
       "83       18.406852\n",
       "836       8.472152\n",
       "837      15.117332\n",
       "844      12.501760\n",
       "849      11.734752\n",
       "850      21.945808\n",
       "870      14.334359\n",
       "881       6.860485\n",
       "914      10.541057\n",
       "925      32.259876\n",
       "925－2    29.253738\n",
       "930       9.002863\n",
       "930-3    20.676601\n",
       "938       6.203438\n",
       "941      17.655754\n",
       "958       4.104933\n",
       "984       4.511631\n",
       "988      23.913376\n",
       "993      20.375021\n",
       "Name: predict_age, Length: 109, dtype: float64"
      ]
     },
     "execution_count": 6,
     "metadata": {},
     "output_type": "execute_result"
    }
   ],
   "source": [
    "df.groupby(['label'])['predict_age'].mean()"
   ]
  },
  {
   "cell_type": "code",
   "execution_count": null,
   "metadata": {},
   "outputs": [],
   "source": []
  }
 ],
 "metadata": {
  "kernelspec": {
   "display_name": "C3AE",
   "language": "python",
   "name": "c3ae"
  },
  "language_info": {
   "codemirror_mode": {
    "name": "ipython",
    "version": 3
   },
   "file_extension": ".py",
   "mimetype": "text/x-python",
   "name": "python",
   "nbconvert_exporter": "python",
   "pygments_lexer": "ipython3",
   "version": "3.6.5"
  }
 },
 "nbformat": 4,
 "nbformat_minor": 4
}

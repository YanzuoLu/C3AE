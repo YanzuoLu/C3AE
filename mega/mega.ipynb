{
 "cells": [
  {
   "cell_type": "code",
   "execution_count": 1,
   "metadata": {},
   "outputs": [],
   "source": [
    "import feather\n",
    "import numpy as np\n",
    "import pandas as pd"
   ]
  },
  {
   "cell_type": "code",
   "execution_count": 2,
   "metadata": {},
   "outputs": [],
   "source": [
    "df = feather.read_dataframe('mega.feather')\n",
    "age = df['predict_age'].to_numpy()\n",
    "predict_age = df['age'].to_numpy()"
   ]
  },
  {
   "cell_type": "code",
   "execution_count": 3,
   "metadata": {},
   "outputs": [
    {
     "data": {
      "text/plain": [
       "4.517137293484389"
      ]
     },
     "execution_count": 3,
     "metadata": {},
     "output_type": "execute_result"
    }
   ],
   "source": [
    "from sklearn.metrics import mean_absolute_error\n",
    "mean_absolute_error(age, predict_age)"
   ]
  },
  {
   "cell_type": "code",
   "execution_count": 4,
   "metadata": {},
   "outputs": [
    {
     "name": "stdout",
     "output_type": "stream",
     "text": [
      "age of (-inf, 10] MAE: 4.29613602509016 num: 1166\n",
      "age of (10, 20] MAE: 4.475671844655555 num: 661\n",
      "age of (20, 30] MAE: 3.9545115392092627 num: 1053\n",
      "age of (30, 40] MAE: 4.6046963932068365 num: 615\n",
      "age of (40, 50] MAE: 6.12768520886385 num: 158\n",
      "age of (50, 60] MAE: 7.826767603556315 num: 84\n",
      "age of (60, 70] MAE: 8.250684689252804 num: 78\n"
     ]
    }
   ],
   "source": [
    "for i in range(10, 110, 10):\n",
    "    if i == 10:\n",
    "        age_seperate = age[np.where(age <= i)[0]]\n",
    "        predict_age_seperate = predict_age[np.where(age <= i)[0]]\n",
    "        output_str = \"age of (-inf, {}] MAE: \".format(str(i))\n",
    "    else:\n",
    "        age_seperate = age[np.where((age <= i) & (age > i - 10))[0]]\n",
    "        predict_age_seperate = predict_age[np.where((age <= i) & (age > i - 10))[0]]\n",
    "        output_str = \"age of ({}, {}] MAE: \".format(str(i - 10), str(i))\n",
    "    if age_seperate.shape[0] > 0:\n",
    "        num_str = \" num: \" + str(age_seperate.shape[0])\n",
    "        print(output_str + str(mean_absolute_error(age_seperate, predict_age_seperate)) + num_str)"
   ]
  },
  {
   "cell_type": "code",
   "execution_count": 5,
   "metadata": {},
   "outputs": [
    {
     "name": "stdout",
     "output_type": "stream",
     "text": [
      "[0.44587156 0.65714286 0.79764089 0.9095675 ]\n"
     ]
    }
   ],
   "source": [
    "diff = abs(age - predict_age)\n",
    "ca = np.array([sum(diff <= 3.0), sum(diff <= 5.0), sum(diff <= 7.0), sum(diff <= 10.0)]) / len(diff)\n",
    "print(ca)"
   ]
  },
  {
   "cell_type": "code",
   "execution_count": null,
   "metadata": {},
   "outputs": [],
   "source": []
  }
 ],
 "metadata": {
  "kernelspec": {
   "display_name": "C3AE",
   "language": "python",
   "name": "c3ae"
  },
  "language_info": {
   "codemirror_mode": {
    "name": "ipython",
    "version": 3
   },
   "file_extension": ".py",
   "mimetype": "text/x-python",
   "name": "python",
   "nbconvert_exporter": "python",
   "pygments_lexer": "ipython3",
   "version": "3.6.5"
  }
 },
 "nbformat": 4,
 "nbformat_minor": 4
}
